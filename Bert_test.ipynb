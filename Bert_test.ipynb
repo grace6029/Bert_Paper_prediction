{
 "cells": [
  {
   "cell_type": "code",
   "execution_count": 1,
   "metadata": {},
   "outputs": [
    {
     "name": "stderr",
     "output_type": "stream",
     "text": [
      "I1017 08:55:25.245647 11076 file_utils.py:39] PyTorch version 1.2.0+cpu available.\n",
      "I1017 08:55:26.042947 11076 modeling_xlnet.py:194] Better speed can be achieved with apex installed from https://www.github.com/nvidia/apex .\n"
     ]
    }
   ],
   "source": [
    "import os\n",
    "import pandas as pd\n",
    "import torch\n",
    "from transformers import BertTokenizer\n",
    "import random"
   ]
  },
  {
   "cell_type": "code",
   "execution_count": 36,
   "metadata": {},
   "outputs": [
    {
     "name": "stderr",
     "output_type": "stream",
     "text": [
      "I1016 17:12:11.381353  4948 tokenization_utils.py:373] loading file https://s3.amazonaws.com/models.huggingface.co/bert/bert-base-cased-vocab.txt from cache at C:\\Users\\Grace\\.cache\\torch\\transformers\\5e8a2b4893d13790ed4150ca1906be5f7a03d6c4ddf62296c383f6db42814db2.e13dbb970cb325137104fb2e5f36fe865f27746c6b526f6352861b1980eb80b1\n"
     ]
    }
   ],
   "source": [
    "PRETRAINED_MODEL_NAME = \"bert-base-cased\"  # 指定英文的 BERT-BASE 預訓練模型\n",
    "tokenizer = BertTokenizer.from_pretrained(PRETRAINED_MODEL_NAME)"
   ]
  },
  {
   "cell_type": "code",
   "execution_count": 37,
   "metadata": {
    "collapsed": true
   },
   "outputs": [],
   "source": [
    "# 簡單的數據清理，去除空白標題的 examples\n",
    "df_train = pd.read_csv(\"task1_trainset.csv\")\n",
    "\n",
    "empty_title = ((df_train['Authors'].isnull()) \\\n",
    "\t\t\t   | (df_train['Categories'].isnull()) \\\n",
    "\t\t\t   | (df_train['Created Date'].isnull()))\n",
    "df_train = df_train[~empty_title]"
   ]
  },
  {
   "cell_type": "code",
   "execution_count": 4,
   "metadata": {},
   "outputs": [
    {
     "data": {
      "text/html": [
       "<div>\n",
       "<style scoped>\n",
       "    .dataframe tbody tr th:only-of-type {\n",
       "        vertical-align: middle;\n",
       "    }\n",
       "\n",
       "    .dataframe tbody tr th {\n",
       "        vertical-align: top;\n",
       "    }\n",
       "\n",
       "    .dataframe thead th {\n",
       "        text-align: right;\n",
       "    }\n",
       "</style>\n",
       "<table border=\"1\" class=\"dataframe\">\n",
       "  <thead>\n",
       "    <tr style=\"text-align: right;\">\n",
       "      <th></th>\n",
       "      <th>Id</th>\n",
       "      <th>Title</th>\n",
       "      <th>Abstract</th>\n",
       "      <th>Authors</th>\n",
       "      <th>Categories</th>\n",
       "      <th>Created Date</th>\n",
       "      <th>Task 1</th>\n",
       "    </tr>\n",
       "  </thead>\n",
       "  <tbody>\n",
       "    <tr>\n",
       "      <th>0</th>\n",
       "      <td>D00001</td>\n",
       "      <td>A Brain-Inspired Trust Management Model to Ass...</td>\n",
       "      <td>Rapid popularity of Internet of Things (IoT) a...</td>\n",
       "      <td>Mahmud/Kaiser/Rahman/Rahman/Shabut/Al-Mamun/Hu...</td>\n",
       "      <td>cs.CR/cs.AI/q-bio.NC</td>\n",
       "      <td>2018-01-11</td>\n",
       "      <td>BACKGROUND OBJECTIVES METHODS METHODS RESULTS ...</td>\n",
       "    </tr>\n",
       "    <tr>\n",
       "      <th>1</th>\n",
       "      <td>D00002</td>\n",
       "      <td>On Efficient Computation of Shortest Dubins Pa...</td>\n",
       "      <td>In this paper, we address the problem of compu...</td>\n",
       "      <td>Sadeghi/Smith</td>\n",
       "      <td>cs.SY/cs.RO/math.OC</td>\n",
       "      <td>2016-09-21</td>\n",
       "      <td>OBJECTIVES OTHERS METHODS/RESULTS RESULTS RESULTS</td>\n",
       "    </tr>\n",
       "    <tr>\n",
       "      <th>2</th>\n",
       "      <td>D00003</td>\n",
       "      <td>Data-driven Upsampling of Point Clouds</td>\n",
       "      <td>High quality upsampling of sparse 3D point clo...</td>\n",
       "      <td>Zhang/Jiang/Yang/Yamakawa/Shimada/Kara</td>\n",
       "      <td>cs.CV</td>\n",
       "      <td>2018-07-07</td>\n",
       "      <td>BACKGROUND OBJECTIVES METHODS METHODS METHODS ...</td>\n",
       "    </tr>\n",
       "    <tr>\n",
       "      <th>3</th>\n",
       "      <td>D00004</td>\n",
       "      <td>Accessibility or Usability of InteractSE? A He...</td>\n",
       "      <td>Internet is the main source of information now...</td>\n",
       "      <td>Aqle/Khowaja/Al-Thani</td>\n",
       "      <td>cs.HC</td>\n",
       "      <td>2018-08-29</td>\n",
       "      <td>BACKGROUND BACKGROUND BACKGROUND OBJECTIVES OB...</td>\n",
       "    </tr>\n",
       "    <tr>\n",
       "      <th>4</th>\n",
       "      <td>D00005</td>\n",
       "      <td>Spatio-Temporal Facial Expression Recognition ...</td>\n",
       "      <td>Automated Facial Expression Recognition (FER) ...</td>\n",
       "      <td>Hasani/Mahoor</td>\n",
       "      <td>cs.CV</td>\n",
       "      <td>2017-03-20</td>\n",
       "      <td>BACKGROUND BACKGROUND BACKGROUND BACKGROUND ME...</td>\n",
       "    </tr>\n",
       "    <tr>\n",
       "      <th>5</th>\n",
       "      <td>D00006</td>\n",
       "      <td>Continuous Semantic Topic Embedding Model Usin...</td>\n",
       "      <td>This paper proposes the continuous semantic to...</td>\n",
       "      <td>Jung/Choi</td>\n",
       "      <td>stat.ML/cs.CL/cs.LG</td>\n",
       "      <td>2017-11-24</td>\n",
       "      <td>OBJECTIVES/METHODS METHODS CONCLUSIONS RESULTS...</td>\n",
       "    </tr>\n",
       "    <tr>\n",
       "      <th>6</th>\n",
       "      <td>D00007</td>\n",
       "      <td>Beyond Shared Hierarchies: Deep Multitask Lear...</td>\n",
       "      <td>Existing deep multitask learning (MTL) approac...</td>\n",
       "      <td>Meyerson/Miikkulainen</td>\n",
       "      <td>cs.LG/cs.AI/stat.ML</td>\n",
       "      <td>2017-10-31</td>\n",
       "      <td>BACKGROUND BACKGROUND/OBJECTIVES OBJECTIVES/ME...</td>\n",
       "    </tr>\n",
       "    <tr>\n",
       "      <th>7</th>\n",
       "      <td>D00008</td>\n",
       "      <td>Using Scalp Electrical Biosignals to Control a...</td>\n",
       "      <td>In this paper we explore the use of electrical...</td>\n",
       "      <td>George/Lotte/Abad/Lécuyer</td>\n",
       "      <td>cs.OH</td>\n",
       "      <td>2011-11-08</td>\n",
       "      <td>OBJECTIVES METHODS METHODS METHODS METHODS RES...</td>\n",
       "    </tr>\n",
       "    <tr>\n",
       "      <th>8</th>\n",
       "      <td>D00009</td>\n",
       "      <td>Robustness from structure: Inference with hier...</td>\n",
       "      <td>How spiking networks are able to perform proba...</td>\n",
       "      <td>Petrovici/Schroeder/Breitwieser/Grübl/Schemmel...</td>\n",
       "      <td>q-bio.NC/cs.NE/stat.ML</td>\n",
       "      <td>2017-03-12</td>\n",
       "      <td>BACKGROUND/OBJECTIVES BACKGROUND BACKGROUND/ME...</td>\n",
       "    </tr>\n",
       "    <tr>\n",
       "      <th>9</th>\n",
       "      <td>D00010</td>\n",
       "      <td>Statistical Mechanical Analysis of Low-Density...</td>\n",
       "      <td>Low-density parity-check (LDPC) codes on symme...</td>\n",
       "      <td>Mori/Tanaka</td>\n",
       "      <td>cs.IT/math.IT</td>\n",
       "      <td>2011-10-10</td>\n",
       "      <td>BACKGROUND OBJECTIVES RESULTS/CONCLUSIONS METHODS</td>\n",
       "    </tr>\n",
       "  </tbody>\n",
       "</table>\n",
       "</div>"
      ],
      "text/plain": [
       "       Id                                              Title  \\\n",
       "0  D00001  A Brain-Inspired Trust Management Model to Ass...   \n",
       "1  D00002  On Efficient Computation of Shortest Dubins Pa...   \n",
       "2  D00003             Data-driven Upsampling of Point Clouds   \n",
       "3  D00004  Accessibility or Usability of InteractSE? A He...   \n",
       "4  D00005  Spatio-Temporal Facial Expression Recognition ...   \n",
       "5  D00006  Continuous Semantic Topic Embedding Model Usin...   \n",
       "6  D00007  Beyond Shared Hierarchies: Deep Multitask Lear...   \n",
       "7  D00008  Using Scalp Electrical Biosignals to Control a...   \n",
       "8  D00009  Robustness from structure: Inference with hier...   \n",
       "9  D00010  Statistical Mechanical Analysis of Low-Density...   \n",
       "\n",
       "                                            Abstract  \\\n",
       "0  Rapid popularity of Internet of Things (IoT) a...   \n",
       "1  In this paper, we address the problem of compu...   \n",
       "2  High quality upsampling of sparse 3D point clo...   \n",
       "3  Internet is the main source of information now...   \n",
       "4  Automated Facial Expression Recognition (FER) ...   \n",
       "5  This paper proposes the continuous semantic to...   \n",
       "6  Existing deep multitask learning (MTL) approac...   \n",
       "7  In this paper we explore the use of electrical...   \n",
       "8  How spiking networks are able to perform proba...   \n",
       "9  Low-density parity-check (LDPC) codes on symme...   \n",
       "\n",
       "                                             Authors              Categories  \\\n",
       "0  Mahmud/Kaiser/Rahman/Rahman/Shabut/Al-Mamun/Hu...    cs.CR/cs.AI/q-bio.NC   \n",
       "1                                      Sadeghi/Smith     cs.SY/cs.RO/math.OC   \n",
       "2             Zhang/Jiang/Yang/Yamakawa/Shimada/Kara                   cs.CV   \n",
       "3                              Aqle/Khowaja/Al-Thani                   cs.HC   \n",
       "4                                      Hasani/Mahoor                   cs.CV   \n",
       "5                                          Jung/Choi     stat.ML/cs.CL/cs.LG   \n",
       "6                              Meyerson/Miikkulainen     cs.LG/cs.AI/stat.ML   \n",
       "7                          George/Lotte/Abad/Lécuyer                   cs.OH   \n",
       "8  Petrovici/Schroeder/Breitwieser/Grübl/Schemmel...  q-bio.NC/cs.NE/stat.ML   \n",
       "9                                        Mori/Tanaka           cs.IT/math.IT   \n",
       "\n",
       "  Created Date                                             Task 1  \n",
       "0   2018-01-11  BACKGROUND OBJECTIVES METHODS METHODS RESULTS ...  \n",
       "1   2016-09-21  OBJECTIVES OTHERS METHODS/RESULTS RESULTS RESULTS  \n",
       "2   2018-07-07  BACKGROUND OBJECTIVES METHODS METHODS METHODS ...  \n",
       "3   2018-08-29  BACKGROUND BACKGROUND BACKGROUND OBJECTIVES OB...  \n",
       "4   2017-03-20  BACKGROUND BACKGROUND BACKGROUND BACKGROUND ME...  \n",
       "5   2017-11-24  OBJECTIVES/METHODS METHODS CONCLUSIONS RESULTS...  \n",
       "6   2017-10-31  BACKGROUND BACKGROUND/OBJECTIVES OBJECTIVES/ME...  \n",
       "7   2011-11-08  OBJECTIVES METHODS METHODS METHODS METHODS RES...  \n",
       "8   2017-03-12  BACKGROUND/OBJECTIVES BACKGROUND BACKGROUND/ME...  \n",
       "9   2011-10-10  BACKGROUND OBJECTIVES RESULTS/CONCLUSIONS METHODS  "
      ]
     },
     "execution_count": 4,
     "metadata": {},
     "output_type": "execute_result"
    }
   ],
   "source": [
    "df_train[:10]"
   ]
  },
  {
   "cell_type": "code",
   "execution_count": 38,
   "metadata": {
    "collapsed": true
   },
   "outputs": [],
   "source": [
    "# 去除不必要的欄位並重新命名兩標題的欄位名\n",
    "df_train = df_train.reset_index()\n",
    "df_train = df_train.loc[:, ['Abstract', 'Task 1']]"
   ]
  },
  {
   "cell_type": "code",
   "execution_count": 39,
   "metadata": {
    "collapsed": true
   },
   "outputs": [],
   "source": [
    "Abstract_snt_list = []\n",
    "label_snt_list = []\n",
    "for data in df_train['Abstract']:\n",
    "    data = data.split('$$$')\n",
    "    #一句一句話分離\n",
    "    for snt in data:\n",
    "        Abstract_snt_list.append(snt)\n",
    "for label in df_train['Task 1']:\n",
    "    label = label.split(\" \")\n",
    "    for la in label:\n",
    "        label_snt_list.append(la.split(\"/\"))"
   ]
  },
  {
   "cell_type": "code",
   "execution_count": 83,
   "metadata": {},
   "outputs": [
    {
     "data": {
      "text/plain": [
       "['Rapid popularity of Internet of Things (IoT) and cloud computing permits neuroscientists to collect multilevel and multichannel brain data to better understand brain functions, diagnose diseases, and devise treatments.',\n",
       " 'To ensure secure and reliable data communication between end-to-end (E2E) devices supported by current IoT and cloud infrastructure, trust management is needed at the IoT and user ends.',\n",
       " 'This paper introduces a Neuro-Fuzzy based Brain-inspired trust management model (TMM) to secure IoT devices and relay nodes, and to ensure data reliability.',\n",
       " 'The proposed TMM utilizes node behavioral trust and data trust estimated using Adaptive Neuro-Fuzzy Inference System and weighted-additive methods respectively to assess the nodes trustworthiness.',\n",
       " 'In contrast to the existing fuzzy based TMMs, the NS2 simulation results confirm the robustness and accuracy of the proposed TMM in identifying malicious nodes in the communication network.',\n",
       " 'With the growing usage of cloud based IoT frameworks in Neuroscience research, integrating the proposed TMM into the existing infrastructure will assure secure and reliable data communication among the E2E devices.',\n",
       " 'In this paper, we address the problem of computing optimal paths through three consecutive points for the curvature-constrained forward moving Dubins vehicle.',\n",
       " 'Given initial and final configurations of the Dubins vehicle, and a midpoint with an unconstrained heading, the objective is to compute the midpoint heading that minimizes the total Dubins path length.',\n",
       " \"We provide a novel geometrical analysis of the optimal path, and establish new properties of the optimal Dubins' path through three points.\",\n",
       " 'We then show how our method can be used to quickly refine Dubins TSP tours produced using state-of-the-art techniques.']"
      ]
     },
     "execution_count": 83,
     "metadata": {},
     "output_type": "execute_result"
    }
   ],
   "source": [
    "Abstract_snt_list[:10]"
   ]
  },
  {
   "cell_type": "code",
   "execution_count": 84,
   "metadata": {},
   "outputs": [
    {
     "data": {
      "text/plain": [
       "[['BACKGROUND'],\n",
       " ['OBJECTIVES'],\n",
       " ['METHODS'],\n",
       " ['METHODS'],\n",
       " ['RESULTS'],\n",
       " ['CONCLUSIONS'],\n",
       " ['OBJECTIVES'],\n",
       " ['OTHERS'],\n",
       " ['METHODS', 'RESULTS'],\n",
       " ['RESULTS']]"
      ]
     },
     "execution_count": 84,
     "metadata": {},
     "output_type": "execute_result"
    }
   ],
   "source": [
    "label_snt_list[:10]"
   ]
  },
  {
   "cell_type": "code",
   "execution_count": 40,
   "metadata": {
    "collapsed": true
   },
   "outputs": [],
   "source": [
    "abstract_dict = {\n",
    "    'text': Abstract_snt_list,\n",
    "    'label': label_snt_list\n",
    "}"
   ]
  },
  {
   "cell_type": "code",
   "execution_count": 41,
   "metadata": {
    "collapsed": true
   },
   "outputs": [],
   "source": [
    "X = pd.DataFrame(abstract_dict)"
   ]
  },
  {
   "cell_type": "code",
   "execution_count": 87,
   "metadata": {},
   "outputs": [
    {
     "data": {
      "text/html": [
       "<div>\n",
       "<style scoped>\n",
       "    .dataframe tbody tr th:only-of-type {\n",
       "        vertical-align: middle;\n",
       "    }\n",
       "\n",
       "    .dataframe tbody tr th {\n",
       "        vertical-align: top;\n",
       "    }\n",
       "\n",
       "    .dataframe thead th {\n",
       "        text-align: right;\n",
       "    }\n",
       "</style>\n",
       "<table border=\"1\" class=\"dataframe\">\n",
       "  <thead>\n",
       "    <tr style=\"text-align: right;\">\n",
       "      <th></th>\n",
       "      <th>text</th>\n",
       "      <th>label</th>\n",
       "    </tr>\n",
       "  </thead>\n",
       "  <tbody>\n",
       "    <tr>\n",
       "      <th>0</th>\n",
       "      <td>Rapid popularity of Internet of Things (IoT) a...</td>\n",
       "      <td>[BACKGROUND]</td>\n",
       "    </tr>\n",
       "    <tr>\n",
       "      <th>1</th>\n",
       "      <td>To ensure secure and reliable data communicati...</td>\n",
       "      <td>[OBJECTIVES]</td>\n",
       "    </tr>\n",
       "    <tr>\n",
       "      <th>2</th>\n",
       "      <td>This paper introduces a Neuro-Fuzzy based Brai...</td>\n",
       "      <td>[METHODS]</td>\n",
       "    </tr>\n",
       "    <tr>\n",
       "      <th>3</th>\n",
       "      <td>The proposed TMM utilizes node behavioral trus...</td>\n",
       "      <td>[METHODS]</td>\n",
       "    </tr>\n",
       "    <tr>\n",
       "      <th>4</th>\n",
       "      <td>In contrast to the existing fuzzy based TMMs, ...</td>\n",
       "      <td>[RESULTS]</td>\n",
       "    </tr>\n",
       "    <tr>\n",
       "      <th>5</th>\n",
       "      <td>With the growing usage of cloud based IoT fram...</td>\n",
       "      <td>[CONCLUSIONS]</td>\n",
       "    </tr>\n",
       "    <tr>\n",
       "      <th>6</th>\n",
       "      <td>In this paper, we address the problem of compu...</td>\n",
       "      <td>[OBJECTIVES]</td>\n",
       "    </tr>\n",
       "    <tr>\n",
       "      <th>7</th>\n",
       "      <td>Given initial and final configurations of the ...</td>\n",
       "      <td>[OTHERS]</td>\n",
       "    </tr>\n",
       "    <tr>\n",
       "      <th>8</th>\n",
       "      <td>We provide a novel geometrical analysis of the...</td>\n",
       "      <td>[METHODS, RESULTS]</td>\n",
       "    </tr>\n",
       "    <tr>\n",
       "      <th>9</th>\n",
       "      <td>We then show how our method can be used to qui...</td>\n",
       "      <td>[RESULTS]</td>\n",
       "    </tr>\n",
       "  </tbody>\n",
       "</table>\n",
       "</div>"
      ],
      "text/plain": [
       "                                                text               label\n",
       "0  Rapid popularity of Internet of Things (IoT) a...        [BACKGROUND]\n",
       "1  To ensure secure and reliable data communicati...        [OBJECTIVES]\n",
       "2  This paper introduces a Neuro-Fuzzy based Brai...           [METHODS]\n",
       "3  The proposed TMM utilizes node behavioral trus...           [METHODS]\n",
       "4  In contrast to the existing fuzzy based TMMs, ...           [RESULTS]\n",
       "5  With the growing usage of cloud based IoT fram...       [CONCLUSIONS]\n",
       "6  In this paper, we address the problem of compu...        [OBJECTIVES]\n",
       "7  Given initial and final configurations of the ...            [OTHERS]\n",
       "8  We provide a novel geometrical analysis of the...  [METHODS, RESULTS]\n",
       "9  We then show how our method can be used to qui...           [RESULTS]"
      ]
     },
     "execution_count": 87,
     "metadata": {},
     "output_type": "execute_result"
    }
   ],
   "source": [
    "X[:10]"
   ]
  },
  {
   "cell_type": "code",
   "execution_count": 142,
   "metadata": {},
   "outputs": [
    {
     "data": {
      "text/html": [
       "<div>\n",
       "<style scoped>\n",
       "    .dataframe tbody tr th:only-of-type {\n",
       "        vertical-align: middle;\n",
       "    }\n",
       "\n",
       "    .dataframe tbody tr th {\n",
       "        vertical-align: top;\n",
       "    }\n",
       "\n",
       "    .dataframe thead th {\n",
       "        text-align: right;\n",
       "    }\n",
       "</style>\n",
       "<table border=\"1\" class=\"dataframe\">\n",
       "  <thead>\n",
       "    <tr style=\"text-align: right;\">\n",
       "      <th></th>\n",
       "      <th>text</th>\n",
       "      <th>label</th>\n",
       "    </tr>\n",
       "  </thead>\n",
       "  <tbody>\n",
       "    <tr>\n",
       "      <th>0</th>\n",
       "      <td>Rapid popularity of Internet of Things (IoT) a...</td>\n",
       "      <td>0</td>\n",
       "    </tr>\n",
       "    <tr>\n",
       "      <th>1</th>\n",
       "      <td>To ensure secure and reliable data communicati...</td>\n",
       "      <td>21</td>\n",
       "    </tr>\n",
       "    <tr>\n",
       "      <th>2</th>\n",
       "      <td>This paper introduces a Neuro-Fuzzy based Brai...</td>\n",
       "      <td>17</td>\n",
       "    </tr>\n",
       "    <tr>\n",
       "      <th>3</th>\n",
       "      <td>The proposed TMM utilizes node behavioral trus...</td>\n",
       "      <td>17</td>\n",
       "    </tr>\n",
       "    <tr>\n",
       "      <th>4</th>\n",
       "      <td>In contrast to the existing fuzzy based TMMs, ...</td>\n",
       "      <td>30</td>\n",
       "    </tr>\n",
       "    <tr>\n",
       "      <th>5</th>\n",
       "      <td>With the growing usage of cloud based IoT fram...</td>\n",
       "      <td>16</td>\n",
       "    </tr>\n",
       "    <tr>\n",
       "      <th>6</th>\n",
       "      <td>In this paper, we address the problem of compu...</td>\n",
       "      <td>21</td>\n",
       "    </tr>\n",
       "    <tr>\n",
       "      <th>7</th>\n",
       "      <td>Given initial and final configurations of the ...</td>\n",
       "      <td>29</td>\n",
       "    </tr>\n",
       "    <tr>\n",
       "      <th>8</th>\n",
       "      <td>We provide a novel geometrical analysis of the...</td>\n",
       "      <td>19</td>\n",
       "    </tr>\n",
       "    <tr>\n",
       "      <th>9</th>\n",
       "      <td>We then show how our method can be used to qui...</td>\n",
       "      <td>30</td>\n",
       "    </tr>\n",
       "  </tbody>\n",
       "</table>\n",
       "</div>"
      ],
      "text/plain": [
       "                                                text  label\n",
       "0  Rapid popularity of Internet of Things (IoT) a...      0\n",
       "1  To ensure secure and reliable data communicati...     21\n",
       "2  This paper introduces a Neuro-Fuzzy based Brai...     17\n",
       "3  The proposed TMM utilizes node behavioral trus...     17\n",
       "4  In contrast to the existing fuzzy based TMMs, ...     30\n",
       "5  With the growing usage of cloud based IoT fram...     16\n",
       "6  In this paper, we address the problem of compu...     21\n",
       "7  Given initial and final configurations of the ...     29\n",
       "8  We provide a novel geometrical analysis of the...     19\n",
       "9  We then show how our method can be used to qui...     30"
      ]
     },
     "execution_count": 142,
     "metadata": {},
     "output_type": "execute_result"
    }
   ],
   "source": [
    "from sklearn.preprocessing import LabelEncoder\n",
    "labelencoder = LabelEncoder()\n",
    "data_le = pd.DataFrame(abstract_dict)\n",
    "data_le['label'] = labelencoder.fit_transform(X['label'])\n",
    "data_le[:10]"
   ]
  },
  {
   "cell_type": "code",
   "execution_count": 42,
   "metadata": {
    "collapsed": true
   },
   "outputs": [],
   "source": [
    "# Load libraries\n",
    "from sklearn.preprocessing import MultiLabelBinarizer\n",
    "import numpy as np"
   ]
  },
  {
   "cell_type": "code",
   "execution_count": 10,
   "metadata": {},
   "outputs": [
    {
     "data": {
      "text/plain": [
       "Index(['text', 'label'], dtype='object')"
      ]
     },
     "execution_count": 10,
     "metadata": {},
     "output_type": "execute_result"
    }
   ],
   "source": [
    "X.columns"
   ]
  },
  {
   "cell_type": "code",
   "execution_count": 15,
   "metadata": {},
   "outputs": [
    {
     "data": {
      "text/plain": [
       "array(['A', 'B', 'C', 'D', 'E', 'G', 'H', 'I', 'J', 'K', 'L', 'M', 'N',\n",
       "       'O', 'R', 'S', 'T', 'U', 'V'], dtype=object)"
      ]
     },
     "execution_count": 15,
     "metadata": {},
     "output_type": "execute_result"
    }
   ],
   "source": [
    "# Create MultiLabelBinarizer object\n",
    "one_hot = MultiLabelBinarizer()\n",
    "#data_one_hot = pd.DataFrame(abstract_dict)\n",
    "#data_one_hot.label = one_hot.fit_transform(X.label)\n",
    "# One-hot encode data\n",
    "X_one_hot = one_hot.fit(['BACKGROUND', 'CONCLUSIONS', 'METHODS', 'OBJECTIVES', 'OTHERS',\n",
    "       'RESULTS'])\n",
    "#test = X_one_hot.transform(X.label)\n",
    "#X_one_hot = one_hot.fit_transform(X.label)\n",
    "'''\n",
    "s = X['label']\n",
    "one_hot = MultiLabelBinarizer()\n",
    "X_one_hot = pd.DataFrame(one_hot.fit_transform(s),columns=one_hot.classes_, index=X.index)\n",
    "'''\n",
    "# View classes\n",
    "one_hot.classes_"
   ]
  },
  {
   "cell_type": "code",
   "execution_count": 43,
   "metadata": {
    "collapsed": true
   },
   "outputs": [],
   "source": [
    "data_one_hot = X.label.str.join('|').str.get_dummies().add_prefix('')\n",
    "df = pd.concat([X,data_one_hot],axis=1).drop(['label'],axis=1)"
   ]
  },
  {
   "cell_type": "code",
   "execution_count": 30,
   "metadata": {
    "collapsed": true
   },
   "outputs": [],
   "source": [
    "test = df.loc[:10,['BACKGROUND', 'CONCLUSIONS', 'METHODS', 'OBJECTIVES', 'OTHERS','RESULTS']]"
   ]
  },
  {
   "cell_type": "code",
   "execution_count": 71,
   "metadata": {},
   "outputs": [
    {
     "data": {
      "text/plain": [
       "array([0, 0, 1, 0, 0, 1], dtype=object)"
      ]
     },
     "execution_count": 71,
     "metadata": {},
     "output_type": "execute_result"
    }
   ],
   "source": [
    "df.loc[8,['BACKGROUND', 'CONCLUSIONS', 'METHODS', 'OBJECTIVES', 'OTHERS','RESULTS']].values"
   ]
  },
  {
   "cell_type": "code",
   "execution_count": 52,
   "metadata": {},
   "outputs": [
    {
     "data": {
      "text/plain": [
       "[0, 0, 1, 0, 0, 1]"
      ]
     },
     "execution_count": 52,
     "metadata": {},
     "output_type": "execute_result"
    }
   ],
   "source": [
    "list(df.loc[8,['BACKGROUND', 'CONCLUSIONS', 'METHODS', 'OBJECTIVES', 'OTHERS','RESULTS']])"
   ]
  },
  {
   "cell_type": "code",
   "execution_count": null,
   "metadata": {
    "collapsed": true
   },
   "outputs": [],
   "source": []
  },
  {
   "cell_type": "code",
   "execution_count": 143,
   "metadata": {
    "collapsed": true
   },
   "outputs": [],
   "source": [
    "# test.csv的處理\n",
    "df_test = pd.read_csv(\"task1_public_testset.csv\")\n",
    "df_test = df_test.loc[:, ['Abstract', \"Id\"]]\n",
    "df_test.columns = [\"text\", \"Id\"]"
   ]
  },
  {
   "cell_type": "code",
   "execution_count": 145,
   "metadata": {},
   "outputs": [
    {
     "ename": "TypeError",
     "evalue": "'RangeIndex' object is not callable",
     "output_type": "error",
     "traceback": [
      "\u001b[1;31m---------------------------------------------------------------------------\u001b[0m",
      "\u001b[1;31mTypeError\u001b[0m                                 Traceback (most recent call last)",
      "\u001b[1;32m<ipython-input-145-98f2c34e5f52>\u001b[0m in \u001b[0;36m<module>\u001b[1;34m()\u001b[0m\n\u001b[0;32m      1\u001b[0m \u001b[1;32mfor\u001b[0m \u001b[0mdata\u001b[0m \u001b[1;32min\u001b[0m \u001b[0mdf_test\u001b[0m\u001b[1;33m[\u001b[0m\u001b[1;34m\"text\"\u001b[0m\u001b[1;33m]\u001b[0m\u001b[1;33m:\u001b[0m\u001b[1;33m\u001b[0m\u001b[0m\n\u001b[1;32m----> 2\u001b[1;33m     \u001b[0mprint\u001b[0m\u001b[1;33m(\u001b[0m\u001b[0mdf_test\u001b[0m\u001b[1;33m.\u001b[0m\u001b[0mloc\u001b[0m\u001b[1;33m[\u001b[0m\u001b[0mdf_test\u001b[0m\u001b[1;33m[\u001b[0m\u001b[1;34m'text'\u001b[0m\u001b[1;33m]\u001b[0m\u001b[1;33m.\u001b[0m\u001b[0mindex\u001b[0m\u001b[1;33m(\u001b[0m\u001b[0mdata\u001b[0m\u001b[1;33m)\u001b[0m\u001b[1;33m,\u001b[0m\u001b[1;34m'Id'\u001b[0m\u001b[1;33m]\u001b[0m\u001b[1;33m)\u001b[0m\u001b[1;33m\u001b[0m\u001b[0m\n\u001b[0m",
      "\u001b[1;31mTypeError\u001b[0m: 'RangeIndex' object is not callable"
     ]
    }
   ],
   "source": [
    "for data in df_test[\"text\"]:\n",
    "    print(df_test.loc[df_test['text'].index(data),'Id'])"
   ]
  },
  {
   "cell_type": "markdown",
   "metadata": {},
   "source": [
    "### Whole code starts from here"
   ]
  },
  {
   "cell_type": "code",
   "execution_count": 2,
   "metadata": {},
   "outputs": [
    {
     "name": "stderr",
     "output_type": "stream",
     "text": [
      "I1017 08:56:02.680515 11076 tokenization_utils.py:373] loading file https://s3.amazonaws.com/models.huggingface.co/bert/bert-base-cased-vocab.txt from cache at C:\\Users\\Grace\\.cache\\torch\\transformers\\5e8a2b4893d13790ed4150ca1906be5f7a03d6c4ddf62296c383f6db42814db2.e13dbb970cb325137104fb2e5f36fe865f27746c6b526f6352861b1980eb80b1\n"
     ]
    },
    {
     "name": "stdout",
     "output_type": "stream",
     "text": [
      "訓練樣本數： 46867\n",
      "Index(['text', 'BACKGROUND', 'CONCLUSIONS', 'METHODS', 'OBJECTIVES', 'OTHERS',\n",
      "       'RESULTS'],\n",
      "      dtype='object')\n",
      "                                                text  BACKGROUND  CONCLUSIONS  \\\n",
      "0  Rapid popularity of Internet of Things (IoT) a...           1            0   \n",
      "1  To ensure secure and reliable data communicati...           0            0   \n",
      "2  This paper introduces a Neuro-Fuzzy based Brai...           0            0   \n",
      "3  The proposed TMM utilizes node behavioral trus...           0            0   \n",
      "4  In contrast to the existing fuzzy based TMMs, ...           0            0   \n",
      "\n",
      "   METHODS  OBJECTIVES  OTHERS  RESULTS  \n",
      "0        0           0       0        0  \n",
      "1        0           1       0        0  \n",
      "2        1           0       0        0  \n",
      "3        1           0       0        0  \n",
      "4        0           0       0        1  \n"
     ]
    }
   ],
   "source": [
    "import torch\n",
    "from torch import nn\n",
    "from transformers import BertTokenizer\n",
    "import random\n",
    "\n",
    "PRETRAINED_MODEL_NAME = \"bert-base-cased\"  # 指定英文的 BERT-BASE 預訓練模型\n",
    "tokenizer = BertTokenizer.from_pretrained(PRETRAINED_MODEL_NAME)\n",
    "\n",
    "###----1. 準備原始文本數據\n",
    "\n",
    "def data_preprocessing(csv_name,mode):\n",
    "\tdf = pd.read_csv(csv_name)\n",
    "\tempty_title = ((df['Authors'].isnull()) \\\n",
    "\t\t\t   | (df['Categories'].isnull()) \\\n",
    "\t\t\t   | (df['Created Date'].isnull()))\n",
    "\tdf = df[~empty_title]\n",
    "\n",
    "\t#重設columns\n",
    "\tdf = df.reset_index()\n",
    "\tif mode=='train':\n",
    "\t\tdf = df.loc[:, ['Abstract', 'Task 1']]\n",
    "\t\tdf.columns = ['text', 'label']\n",
    "\telse:\n",
    "\t\tdf_test = df_test.loc[:, ['Abstract', \"Id\"]]\n",
    "\t\tdf_test.columns = [\"text\", \"Id\"]\n",
    "\n",
    "\t#將abstract內每句話和label分離\n",
    "\tAbstract_snt_list = []\n",
    "\tlabel_snt_list = []\n",
    "\tid_snt_list = []\n",
    "\tfor data in df['text']:\n",
    "\t\tdata = data.split('$$$')\n",
    "\t\t#一句一句話分離\n",
    "\t\tfor snt in data:\n",
    "\t\t\tAbstract_snt_list.append(snt)\n",
    "\t\t'''\n",
    "\t\t#還沒改好test部分\n",
    "\t\tif mode=='test':\n",
    "\t\t\tid_snt_list.append()\n",
    "\t\t\tabstract_dict = {\n",
    "\t\t\t\t'text': Abstract_snt_list,\n",
    "\t\t\t\t'id': label_snt_list\n",
    "\t\t\t}\n",
    "\t\t\t'''\n",
    "\tif mode=='train':\n",
    "\t\tfor label in df['label']:\n",
    "\t\t\tlabel = label.split(\" \")\n",
    "\t\t\tfor la in label:\n",
    "\t\t\t\tlabel_snt_list.append(la.split(\"/\"))\n",
    "\t\tabstract_dict = {\n",
    "\t\t'text': Abstract_snt_list,\n",
    "\t\t'label': label_snt_list\n",
    "\t\t}\n",
    "\n",
    "\treturn abstract_dict\n",
    "\n",
    "def one_hot_encoding(X):\t#對多標籤進行one hot encoding\n",
    "\tdata_one_hot = X.label.str.join('|').str.get_dummies().add_prefix('')\t#one hot encoding 後將結果併入原dataframe\n",
    "\tdf = pd.concat([X,data_one_hot],axis=1).drop(['label'],axis=1)\t#去除未轉換前的label\n",
    "\treturn df\n",
    "\n",
    "\n",
    "#轉成dataframe並進行ont hot encoding後存起來\n",
    "abstract_dict = data_preprocessing('task1_trainset.csv','train')\n",
    "df_train = pd.DataFrame(abstract_dict)\n",
    "df_train = one_hot_encoding(df_train)\n",
    "df_train.to_csv(\"task1_trainset.tsv\", sep=\"\\t\", index=False)\n",
    "\n",
    "print(\"訓練樣本數：\", len(df_train))\n",
    "print(df_train.columns)\n",
    "print(df_train.head())"
   ]
  },
  {
   "cell_type": "code",
   "execution_count": 3,
   "metadata": {
    "collapsed": true
   },
   "outputs": [],
   "source": [
    "from torch.utils.data import Dataset\n",
    "import pysnooper\n",
    " \n",
    "\t\n",
    "class PaperDataset(Dataset):\n",
    "\t# 讀取前處理後的 tsv 檔並初始化一些參數\n",
    "\tdef __init__(self, mode, tokenizer):\n",
    "\t\tassert mode in [\"task1_trainset\", \"task1_public_testset\"]  # 一般訓練你會需要 dev set\n",
    "\t\tself.mode = mode\n",
    "\t\t# 大數據你會需要用 iterator=True\n",
    "\t\tself.df = pd.read_csv(mode + \".tsv\", sep=\"\\t\").fillna(\"\")\n",
    "\t\tself.len = len(self.df)\n",
    "\t\t#self.label_map = {'BACKGROUND': 0, 'OBJECTIVES': 1, 'METHODS': 2, 'RESULTS': 3, 'CONCLUSIONS': 4, 'OTHERS': 5}\n",
    "\t\tself.tokenizer = tokenizer  # 我們將使用 BERT tokenizer\n",
    "\t# 定義回傳一筆訓練 / 測試數據的函式\n",
    "\tdef __getitem__(self, idx):\t#Called to implement evaluation of self[key] (special method in python)\n",
    "\t\tif self.mode == \"task1_public_testset\":\n",
    "\t\t\ttext = self.df.iloc[idx, :1].values #把dataframe每行資料的前兩個col取出，也就是把text_a和text_b單獨取出來\n",
    "\t\t\tlabel_tensor = None\n",
    "\t\telse:\n",
    "\t\t\ttext= self.df.iloc[idx, :1].values\n",
    "\t\t\tlabel_id = list(self.df.loc[idx,['BACKGROUND', 'CONCLUSIONS', 'METHODS', 'OBJECTIVES', 'OTHERS','RESULTS']])\n",
    "\t\t\tlabel_tensor = torch.FloatTensor(label_id)\n",
    "\t\t\n",
    "\t\t#建立句子的 BERT tokens 並加入分隔符號 [SEP]\n",
    "\t\t# 建立第一個(Title)句子的 BERT tokens 並加入分隔符號 [SEP]\n",
    "\t\tword_pieces = [\"[CLS]\"]\n",
    "\t\ttokens = self.tokenizer.tokenize(str(text[0]))\n",
    "\t\tword_pieces += tokens + [\"[SEP]\"]\n",
    "\t\tlen_tokens = len(word_pieces)\n",
    "\n",
    "\t\t# 將整個 token 序列轉換成索引序列\n",
    "\t\tids = self.tokenizer.convert_tokens_to_ids(word_pieces)\n",
    "\t\ttokens_tensor = torch.tensor(ids)\n",
    "\t\t\n",
    "\t\t# 將abstract包含 [SEP] 的 token 位置設為 1, 0 為pedding\n",
    "\t\tsegments_tensor = torch.tensor([0] * len_tokens,\n",
    "\t\t\t\t\t\t\t\t\t\tdtype=torch.long)\n",
    "\t\t\n",
    "\t\treturn (tokens_tensor, segments_tensor, label_tensor)\n",
    "\t\n",
    "\tdef __len__(self):\n",
    "\t\treturn self.len\n",
    "\t"
   ]
  },
  {
   "cell_type": "code",
   "execution_count": 51,
   "metadata": {
    "collapsed": true
   },
   "outputs": [],
   "source": [
    "text = df.iloc[0, :1].values"
   ]
  },
  {
   "cell_type": "code",
   "execution_count": 58,
   "metadata": {},
   "outputs": [
    {
     "data": {
      "text/plain": [
       "'Rapid popularity of Internet of Things (IoT) and cloud computing permits neuroscientists to collect multilevel and multichannel brain data to better understand brain functions, diagnose diseases, and devise treatments.'"
      ]
     },
     "execution_count": 58,
     "metadata": {},
     "output_type": "execute_result"
    }
   ],
   "source": [
    "str(text[0])"
   ]
  },
  {
   "cell_type": "code",
   "execution_count": 59,
   "metadata": {},
   "outputs": [
    {
     "data": {
      "text/plain": [
       "['Rapid',\n",
       " 'popularity',\n",
       " 'of',\n",
       " 'Internet',\n",
       " 'of',\n",
       " 'Things',\n",
       " '(',\n",
       " 'I',\n",
       " '##o',\n",
       " '##T',\n",
       " ')',\n",
       " 'and',\n",
       " 'cloud',\n",
       " 'computing',\n",
       " 'permits',\n",
       " 'ne',\n",
       " '##uro',\n",
       " '##s',\n",
       " '##cie',\n",
       " '##nti',\n",
       " '##sts',\n",
       " 'to',\n",
       " 'collect',\n",
       " 'multi',\n",
       " '##lev',\n",
       " '##el',\n",
       " 'and',\n",
       " 'multi',\n",
       " '##chan',\n",
       " '##nel',\n",
       " 'brain',\n",
       " 'data',\n",
       " 'to',\n",
       " 'better',\n",
       " 'understand',\n",
       " 'brain',\n",
       " 'functions',\n",
       " ',',\n",
       " 'di',\n",
       " '##ag',\n",
       " '##nose',\n",
       " 'diseases',\n",
       " ',',\n",
       " 'and',\n",
       " 'de',\n",
       " '##vise',\n",
       " 'treatments',\n",
       " '.']"
      ]
     },
     "execution_count": 59,
     "metadata": {},
     "output_type": "execute_result"
    }
   ],
   "source": [
    "tokenizer.tokenize(str(text[0]))"
   ]
  },
  {
   "cell_type": "code",
   "execution_count": 4,
   "metadata": {
    "collapsed": true
   },
   "outputs": [],
   "source": [
    "\t\n",
    "# 初始化一個專門讀取訓練樣本的 Dataset，使用英文 BERT 斷詞\n",
    "trainset = PaperDataset(\"task1_trainset\", tokenizer=tokenizer)"
   ]
  },
  {
   "cell_type": "code",
   "execution_count": 5,
   "metadata": {},
   "outputs": [
    {
     "name": "stdout",
     "output_type": "stream",
     "text": [
      "[原始文本]\n",
      "句子 1：Rapid popularity of Internet of Things (IoT) and cloud computing permits neuroscientists to collect multilevel and multichannel brain data to better understand brain functions, diagnose diseases, and devise treatments.\n",
      "分類  ：[]\n",
      "\n",
      "--------------------\n",
      "\n",
      "[Dataset 回傳的 tensors]\n",
      "tokens_tensor  ：tensor([  101, 16356,  5587,  1104,  4639,  1104,  7149,   113,   146,  1186,\n",
      "         1942,   114,  1105,  7180, 12783, 15267, 24928, 11955,  1116, 25982,\n",
      "        14964, 10047,  1106,  7822,  4321, 23403,  1883,  1105,  4321, 18546,\n",
      "         8967,  3575,  2233,  1106,  1618,  2437,  3575,  4226,   117,  4267,\n",
      "         8517, 22583,  8131,   117,  1105,  1260, 16641, 14115,   119,   102])\n",
      "\n",
      "segments_tensor：tensor([0, 0, 0, 0, 0, 0, 0, 0, 0, 0, 0, 0, 0, 0, 0, 0, 0, 0, 0, 0, 0, 0, 0, 0,\n",
      "        0, 0, 0, 0, 0, 0, 0, 0, 0, 0, 0, 0, 0, 0, 0, 0, 0, 0, 0, 0, 0, 0, 0, 0,\n",
      "        0, 0])\n",
      "\n",
      "label_tensor   ：tensor([1., 0., 0., 0., 0., 0.])\n",
      "\n",
      "--------------------\n",
      "\n",
      "[還原 tokens_tensors]\n",
      "[CLS] Rapid popularity of Internet of Things ( I ##o ##T ) and cloud computing permits ne ##uro ##s ##cie ##nti ##sts to collect multi ##lev ##el and multi ##chan ##nel brain data to better understand brain functions , di ##ag ##nose diseases , and de ##vise treatments . [SEP]\n",
      "\n"
     ]
    }
   ],
   "source": [
    "# 選擇第一個樣本\n",
    "sample_idx = 0\n",
    "\n",
    "# 將原始文本拿出做比較\n",
    "abstract = trainset.df['text'][sample_idx]\n",
    "label = trainset.df.iloc[sample_idx,7:].values\n",
    "\n",
    "# 利用剛剛建立的 Dataset 取出轉換後的 id tensors\n",
    "tokens_tensor, segments_tensor, label_tensor = trainset[sample_idx]\n",
    "\n",
    "# 將 tokens_tensor 還原成文本\n",
    "tokens = tokenizer.convert_ids_to_tokens(tokens_tensor.tolist())\n",
    "combined_text = \" \".join(tokens)\n",
    "\n",
    "# 渲染前後差異，毫無反應就是個 print。可以直接看輸出結果\n",
    "print(f\"\"\"[原始文本]\n",
    "句子 1：{abstract}\n",
    "分類  ：{label}\n",
    "\n",
    "--------------------\n",
    "\n",
    "[Dataset 回傳的 tensors]\n",
    "tokens_tensor  ：{tokens_tensor}\n",
    "\n",
    "segments_tensor：{segments_tensor}\n",
    "\n",
    "label_tensor   ：{label_tensor}\n",
    "\n",
    "--------------------\n",
    "\n",
    "[還原 tokens_tensors]\n",
    "{combined_text}\n",
    "\"\"\")"
   ]
  },
  {
   "cell_type": "code",
   "execution_count": 15,
   "metadata": {},
   "outputs": [
    {
     "data": {
      "text/plain": [
       "array(['Rapid popularity of Internet of Things (IoT) and cloud computing permits neuroscientists to collect multilevel and multichannel brain data to better understand brain functions, diagnose diseases, and devise treatments.',\n",
       "       1, 0, 0, 0, 0, 0], dtype=object)"
      ]
     },
     "execution_count": 15,
     "metadata": {},
     "output_type": "execute_result"
    }
   ],
   "source": [
    "trainset.df.iloc[0].values"
   ]
  },
  {
   "cell_type": "code",
   "execution_count": 10,
   "metadata": {
    "collapsed": true
   },
   "outputs": [],
   "source": [
    "from torch.utils.data import DataLoader\n",
    "from torch.nn.utils.rnn import pad_sequence\n",
    "\n",
    "# 這個函式的輸入 `samples` 是一個 list，裡頭的每個 element 都是\n",
    "# 剛剛定義的 `PaperDataset` 回傳的一個樣本，每個樣本都包含 3 tensors：\n",
    "# - tokens_tensor\n",
    "# - segments_tensor\n",
    "# - label_tensor\n",
    "# 它會對前兩個 tensors 作 zero padding，並產生前面說明過的 masks_tensors\n",
    "def create_mini_batch(samples):\n",
    "\ttokens_tensors = [s[0] for s in samples]\n",
    "\tsegments_tensors = [s[1] for s in samples]\n",
    "\t\n",
    "\t# 取第一個element 內看看它的label_tensor是否為None，若為None代表是測試集\n",
    "\tif samples[0][2] is not None:\n",
    "\t\t#torch.stack: 沿着一个新维度对输入张量序列进行连接。 序列中所有的张量都应该为相同形状。\n",
    "\t\tlabel_ids = torch.stack([s[2] for s in samples]) # 將m1和m2兩個矩陣在新的維度（第一維）疊起來\n",
    "\t\t#label_ids = [s[2] for s in samples]\n",
    "\telse:\n",
    "\t\tlabel_ids = None\n",
    "\t\n",
    "\t# zero pad 到同一序列長度\n",
    "\ttokens_tensors = pad_sequence(tokens_tensors, \n",
    "\t\t\t\t\t\t\t\t  batch_first=True)\n",
    "\tsegments_tensors = pad_sequence(segments_tensors, \n",
    "\t\t\t\t\t\t\t\t\tbatch_first=True)\n",
    "\t\n",
    "\t# attention masks，將 tokens_tensors 裡頭不為 zero padding\n",
    "\t# 的位置設為 1 讓 BERT 只關注這些位置的 tokens\n",
    "\tmasks_tensors = torch.zeros(tokens_tensors.shape, \n",
    "\t\t\t\t\t\t\t\tdtype=torch.long)\n",
    "\tmasks_tensors = masks_tensors.masked_fill(\n",
    "\t\ttokens_tensors != 0, 1)\n",
    "\t\n",
    "\treturn tokens_tensors, segments_tensors, masks_tensors, label_ids\n",
    "\n",
    "\n",
    "# 初始化一個每次回傳 64 個訓練樣本的 DataLoader﹝因為不可能一次把整個數據集放入GPU﹞\n",
    "# 利用 `collate_fn` 將 list of samples 合併成一個 mini-batch 是關鍵\n",
    "# `collate_fn` merges a list of samples to form a mini-batch of Tensor(s). Used when using batched loading from a map-style dataset.\n",
    "# `batch_size`: how many samples per batch to load (default: 1).\n",
    "BATCH_SIZE = 64\n",
    "# DataLoader combines a dataset and a sampler, and provides an iterable over the given dataset.\n",
    "trainloader = DataLoader(trainset, batch_size=BATCH_SIZE, \n",
    "\t\t\t\t\t\t collate_fn=create_mini_batch)"
   ]
  },
  {
   "cell_type": "code",
   "execution_count": 11,
   "metadata": {},
   "outputs": [
    {
     "name": "stdout",
     "output_type": "stream",
     "text": [
      "\n",
      "tokens_tensors.shape   = torch.Size([64, 86]) \n",
      "tensor([[  101, 16356,  5587,  ...,     0,     0,     0],\n",
      "        [  101,  1706,  4989,  ...,     0,     0,     0],\n",
      "        [  101,  1188,  2526,  ...,     0,     0,     0],\n",
      "        ...,\n",
      "        [  101,  1109,  1648,  ...,     0,     0,     0],\n",
      "        [  101, 16005,  1437,  ...,     0,     0,     0],\n",
      "        [  101, 12859, 20913,  ...,     0,     0,     0]])\n",
      "------------------------\n",
      "segments_tensors.shape = torch.Size([64, 86])\n",
      "tensor([[0, 0, 0,  ..., 0, 0, 0],\n",
      "        [0, 0, 0,  ..., 0, 0, 0],\n",
      "        [0, 0, 0,  ..., 0, 0, 0],\n",
      "        ...,\n",
      "        [0, 0, 0,  ..., 0, 0, 0],\n",
      "        [0, 0, 0,  ..., 0, 0, 0],\n",
      "        [0, 0, 0,  ..., 0, 0, 0]])\n",
      "------------------------\n",
      "masks_tensors.shape    = torch.Size([64, 86])\n",
      "tensor([[1, 1, 1,  ..., 0, 0, 0],\n",
      "        [1, 1, 1,  ..., 0, 0, 0],\n",
      "        [1, 1, 1,  ..., 0, 0, 0],\n",
      "        ...,\n",
      "        [1, 1, 1,  ..., 0, 0, 0],\n",
      "        [1, 1, 1,  ..., 0, 0, 0],\n",
      "        [1, 1, 1,  ..., 0, 0, 0]])\n",
      "------------------------\n",
      "label_ids.shape        = torch.Size([64, 6])\n",
      "tensor([[1., 0., 0., 0., 0., 0.],\n",
      "        [0., 0., 0., 1., 0., 0.],\n",
      "        [0., 0., 1., 0., 0., 0.],\n",
      "        [0., 0., 1., 0., 0., 0.],\n",
      "        [0., 0., 0., 0., 0., 1.],\n",
      "        [0., 1., 0., 0., 0., 0.],\n",
      "        [0., 0., 0., 1., 0., 0.],\n",
      "        [0., 0., 0., 0., 1., 0.],\n",
      "        [0., 0., 1., 0., 0., 1.],\n",
      "        [0., 0., 0., 0., 0., 1.],\n",
      "        [0., 0., 0., 0., 0., 1.],\n",
      "        [1., 0., 0., 0., 0., 0.],\n",
      "        [0., 0., 0., 1., 0., 0.],\n",
      "        [0., 0., 1., 0., 0., 0.],\n",
      "        [0., 0., 1., 0., 0., 0.],\n",
      "        [0., 0., 1., 0., 0., 0.],\n",
      "        [0., 0., 1., 0., 0., 0.],\n",
      "        [0., 0., 1., 0., 0., 0.],\n",
      "        [0., 1., 0., 0., 0., 1.],\n",
      "        [1., 0., 0., 0., 0., 0.],\n",
      "        [1., 0., 0., 0., 0., 0.],\n",
      "        [1., 0., 0., 0., 0., 0.],\n",
      "        [0., 0., 0., 1., 0., 0.],\n",
      "        [0., 0., 0., 1., 0., 0.],\n",
      "        [0., 0., 1., 0., 0., 0.],\n",
      "        [0., 0., 1., 0., 0., 0.],\n",
      "        [0., 0., 1., 0., 0., 0.],\n",
      "        [0., 0., 1., 0., 0., 0.],\n",
      "        [0., 0., 1., 0., 0., 0.],\n",
      "        [0., 0., 0., 0., 0., 1.],\n",
      "        [0., 0., 0., 0., 0., 1.],\n",
      "        [0., 0., 0., 0., 0., 1.],\n",
      "        [0., 0., 0., 0., 0., 1.],\n",
      "        [0., 0., 0., 0., 0., 1.],\n",
      "        [0., 1., 0., 0., 0., 0.],\n",
      "        [1., 0., 0., 0., 0., 0.],\n",
      "        [1., 0., 0., 0., 0., 0.],\n",
      "        [1., 0., 0., 0., 0., 0.],\n",
      "        [1., 0., 0., 0., 0., 0.],\n",
      "        [0., 0., 1., 0., 0., 0.],\n",
      "        [0., 0., 1., 0., 0., 0.],\n",
      "        [0., 0., 1., 0., 0., 0.],\n",
      "        [0., 0., 1., 0., 0., 0.],\n",
      "        [0., 0., 1., 0., 0., 0.],\n",
      "        [0., 0., 1., 0., 0., 0.],\n",
      "        [0., 1., 0., 1., 0., 1.],\n",
      "        [0., 0., 1., 1., 0., 0.],\n",
      "        [0., 0., 1., 0., 0., 0.],\n",
      "        [0., 1., 0., 0., 0., 0.],\n",
      "        [0., 0., 0., 0., 0., 1.],\n",
      "        [0., 0., 0., 0., 0., 1.],\n",
      "        [1., 0., 0., 0., 0., 0.],\n",
      "        [1., 0., 0., 1., 0., 0.],\n",
      "        [0., 0., 1., 1., 0., 0.],\n",
      "        [0., 0., 1., 0., 0., 1.],\n",
      "        [0., 0., 0., 0., 0., 1.],\n",
      "        [0., 1., 0., 0., 0., 0.],\n",
      "        [0., 0., 0., 1., 0., 0.],\n",
      "        [0., 0., 1., 0., 0., 0.],\n",
      "        [0., 0., 1., 0., 0., 0.],\n",
      "        [0., 0., 1., 0., 0., 0.],\n",
      "        [0., 0., 1., 0., 0., 0.],\n",
      "        [0., 0., 0., 0., 0., 1.],\n",
      "        [0., 0., 0., 0., 0., 1.]])\n",
      "\n"
     ]
    }
   ],
   "source": [
    "from torch.utils.data import Dataset\n",
    "\n",
    "data = next(iter(trainloader))\n",
    "\n",
    "tokens_tensors, segments_tensors, \\\n",
    "    masks_tensors, label_ids = data\n",
    "\n",
    "print(f\"\"\"\n",
    "tokens_tensors.shape   = {tokens_tensors.shape} \n",
    "{tokens_tensors}\n",
    "------------------------\n",
    "segments_tensors.shape = {segments_tensors.shape}\n",
    "{segments_tensors}\n",
    "------------------------\n",
    "masks_tensors.shape    = {masks_tensors.shape}\n",
    "{masks_tensors}\n",
    "------------------------\n",
    "label_ids.shape        = {label_ids.shape}\n",
    "{label_ids}\n",
    "\"\"\")"
   ]
  },
  {
   "cell_type": "code",
   "execution_count": 19,
   "metadata": {},
   "outputs": [
    {
     "name": "stderr",
     "output_type": "stream",
     "text": [
      "I1017 09:05:04.023257 11076 configuration_utils.py:151] loading configuration file https://s3.amazonaws.com/models.huggingface.co/bert/bert-base-cased-config.json from cache at C:\\Users\\Grace\\.cache\\torch\\transformers\\b945b69218e98b3e2c95acf911789741307dec43c698d35fad11c1ae28bda352.d7a3af18ce3a2ab7c0f48f04dc8daff45ed9a3ed333b9e9a79d012a0dedf87a6\n",
      "I1017 09:05:04.027248 11076 configuration_utils.py:168] Model config {\n",
      "  \"attention_probs_dropout_prob\": 0.1,\n",
      "  \"finetuning_task\": null,\n",
      "  \"hidden_act\": \"gelu\",\n",
      "  \"hidden_dropout_prob\": 0.1,\n",
      "  \"hidden_size\": 768,\n",
      "  \"initializer_range\": 0.02,\n",
      "  \"intermediate_size\": 3072,\n",
      "  \"layer_norm_eps\": 1e-12,\n",
      "  \"max_position_embeddings\": 512,\n",
      "  \"num_attention_heads\": 12,\n",
      "  \"num_hidden_layers\": 12,\n",
      "  \"num_labels\": 6,\n",
      "  \"output_attentions\": false,\n",
      "  \"output_hidden_states\": false,\n",
      "  \"pruned_heads\": {},\n",
      "  \"torchscript\": false,\n",
      "  \"type_vocab_size\": 2,\n",
      "  \"use_bfloat16\": false,\n",
      "  \"vocab_size\": 28996\n",
      "}\n",
      "\n",
      "I1017 09:05:04.950263 11076 modeling_utils.py:337] loading weights file https://s3.amazonaws.com/models.huggingface.co/bert/bert-base-cased-pytorch_model.bin from cache at C:\\Users\\Grace\\.cache\\torch\\transformers\\35d8b9d36faaf46728a0192d82bf7d00137490cd6074e8500778afed552a67e5.3fadbea36527ae472139fe84cddaa65454d7429f12d543d80bfc3ad70de55ac2\n",
      "I1017 09:05:07.932290 11076 modeling_utils.py:405] Weights of BertForSequenceClassification not initialized from pretrained model: ['classifier.weight', 'classifier.bias']\n",
      "I1017 09:05:07.935282 11076 modeling_utils.py:408] Weights from pretrained model not used in BertForSequenceClassification: ['cls.predictions.bias', 'cls.predictions.transform.dense.weight', 'cls.predictions.transform.dense.bias', 'cls.predictions.decoder.weight', 'cls.seq_relationship.weight', 'cls.seq_relationship.bias', 'cls.predictions.transform.LayerNorm.weight', 'cls.predictions.transform.LayerNorm.bias']\n"
     ]
    },
    {
     "name": "stdout",
     "output_type": "stream",
     "text": [
      "\n",
      "name            module\n",
      "----------------------\n",
      "bert:embeddings\n",
      "bert:encoder\n",
      "bert:pooler\n",
      "dropout         Dropout(p=0.1, inplace=False)\n",
      "classifier      Linear(in_features=768, out_features=6, bias=True)\n"
     ]
    }
   ],
   "source": [
    "###---3.  在 BERT 之上加入新 layer 成下游任務模型\n",
    "# 載入一個可以做英文多分類任務的模型，n_class = 6\n",
    "from transformers import BertForSequenceClassification\n",
    "from transformers.modeling_bert import BertPreTrainedModel, BertModel\n",
    "\n",
    "PRETRAINED_MODEL_NAME = \"bert-base-cased\"\n",
    "NUM_LABELS = 6\n",
    "\n",
    "class BertForSequenceClassification(BertPreTrainedModel):\n",
    "\tdef __init__(self, config):\n",
    "\t\tsuper(BertForSequenceClassification, self).__init__(config)\n",
    "\t\tself.num_labels = config.num_labels\n",
    "\n",
    "\t\tself.bert = BertModel(config)  # 載入預訓練 BERT\n",
    "\t\tself.dropout = nn.Dropout(config.hidden_dropout_prob)\n",
    "\t\t# 簡單 linear 層\n",
    "\t\tself.classifier = nn.Linear(config.hidden_size, self.config.num_labels)\n",
    "\n",
    "\t\tself.init_weights()\n",
    "\n",
    "\tdef forward(self, input_ids, token_type_ids=None, attention_mask=None, labels=None):\n",
    "\t\t# BERT 輸入就是 tokens, segments, masks\n",
    "\t\toutputs = self.bert(input_ids, token_type_ids, attention_mask)\n",
    "\t\t# 線性分類器將 dropout 後的 BERT repr. 轉成類別 logits\n",
    "\t\tpooled_output = outputs[1]\n",
    "\n",
    "\t\tpooled_output = self.dropout(pooled_output)\n",
    "\t\t# 線性分類器將 dropout 後的 BERT repr. 轉成類別 logits\n",
    "\t\tlogits = self.classifier(pooled_output)\n",
    "\t\t#logits = logits.sigmoid()\n",
    "\n",
    "\t\t# 輸入有 labels 的話直接計算 Cross Entropy 回傳，方便！\n",
    "\t\tif labels is not None:\n",
    "\t\t\t#注意对于BCELoss必须保证其输入的参数都位于0到1之间，无论是标签还是预测值，\n",
    "\t\t\t#如果不想让预测值必须位于0到1之间则可以采用BCEWithLogitsLoss损失函数。\n",
    "\t\t\t#loss_fct = torch.nn.BCEWithLogitsLoss()\n",
    "\t\t\tlogits = logits.sigmoid()\n",
    "\t\t\tloss_fct = torch.nn.BCELoss()\n",
    "\t\t\tloss = loss_fct(logits.view(-1, self.num_labels), labels.view(-1, self.num_labels))\n",
    "\t\t\treturn loss\n",
    "\t\t# 沒有labels的話直接把logits回傳\n",
    "\t\telse:\n",
    "\t\t\treturn logits\n",
    "\t\t# 回傳各類別的 logits\n",
    "\t\treturn logits\n",
    "\n",
    "model = BertForSequenceClassification.from_pretrained(\n",
    "\tPRETRAINED_MODEL_NAME, num_labels=NUM_LABELS)\n",
    "\n",
    "\n",
    "# high-level 顯示此模型裡的 modules\n",
    "print(\"\"\"\n",
    "name            module\n",
    "----------------------\"\"\")\n",
    "for name, module in model.named_children():\n",
    "\tif name == \"bert\":\n",
    "\t\tfor n, _ in module.named_children():\n",
    "\t\t\tprint(f\"{name}:{n}\")\n",
    "\telse:\n",
    "\t\tprint(\"{:15} {}\".format(name, module))"
   ]
  },
  {
   "cell_type": "code",
   "execution_count": 16,
   "metadata": {},
   "outputs": [
    {
     "data": {
      "text/plain": [
       "{\n",
       "  \"attention_probs_dropout_prob\": 0.1,\n",
       "  \"finetuning_task\": null,\n",
       "  \"hidden_act\": \"gelu\",\n",
       "  \"hidden_dropout_prob\": 0.1,\n",
       "  \"hidden_size\": 768,\n",
       "  \"initializer_range\": 0.02,\n",
       "  \"intermediate_size\": 3072,\n",
       "  \"layer_norm_eps\": 1e-12,\n",
       "  \"max_position_embeddings\": 512,\n",
       "  \"num_attention_heads\": 12,\n",
       "  \"num_hidden_layers\": 12,\n",
       "  \"num_labels\": 6,\n",
       "  \"output_attentions\": false,\n",
       "  \"output_hidden_states\": false,\n",
       "  \"pruned_heads\": {},\n",
       "  \"torchscript\": false,\n",
       "  \"type_vocab_size\": 2,\n",
       "  \"use_bfloat16\": false,\n",
       "  \"vocab_size\": 28996\n",
       "}"
      ]
     },
     "execution_count": 16,
     "metadata": {},
     "output_type": "execute_result"
    }
   ],
   "source": [
    "model.config"
   ]
  },
  {
   "cell_type": "code",
   "execution_count": 21,
   "metadata": {},
   "outputs": [
    {
     "name": "stdout",
     "output_type": "stream",
     "text": [
      "device: cpu\n",
      "tensor([[0.5937, 0.5420, 0.3497, 0.5552, 0.4381, 0.4996],\n",
      "        [0.4854, 0.5192, 0.3070, 0.6564, 0.4049, 0.4880],\n",
      "        [0.5334, 0.5185, 0.3380, 0.6026, 0.4345, 0.4923],\n",
      "        [0.5566, 0.5148, 0.3635, 0.5627, 0.4478, 0.4945],\n",
      "        [0.5316, 0.5290, 0.3390, 0.6037, 0.4128, 0.4730],\n",
      "        [0.5284, 0.5354, 0.3291, 0.6192, 0.4075, 0.4710],\n",
      "        [0.6233, 0.5402, 0.3615, 0.5156, 0.4660, 0.4973],\n",
      "        [0.4925, 0.5164, 0.2856, 0.6725, 0.3719, 0.4788],\n",
      "        [0.5410, 0.5375, 0.3371, 0.5979, 0.4049, 0.4658],\n",
      "        [0.5239, 0.5282, 0.3217, 0.6272, 0.4062, 0.4855],\n",
      "        [0.4958, 0.5230, 0.3004, 0.6416, 0.3977, 0.4659],\n",
      "        [0.5269, 0.5243, 0.3253, 0.6084, 0.4285, 0.4959],\n",
      "        [0.5849, 0.5394, 0.3457, 0.5804, 0.4285, 0.4646],\n",
      "        [0.5321, 0.5368, 0.3280, 0.6410, 0.3977, 0.4571],\n",
      "        [0.5650, 0.5286, 0.3539, 0.5877, 0.4300, 0.4664],\n",
      "        [0.5222, 0.5165, 0.2969, 0.6527, 0.3746, 0.4685],\n",
      "        [0.5513, 0.5301, 0.3364, 0.6022, 0.4157, 0.4626],\n",
      "        [0.5714, 0.5385, 0.3520, 0.5975, 0.4102, 0.4379],\n",
      "        [0.6173, 0.5404, 0.3742, 0.5020, 0.4654, 0.5126],\n",
      "        [0.7013, 0.5442, 0.4058, 0.4403, 0.4612, 0.5047],\n",
      "        [0.6734, 0.5436, 0.3835, 0.4789, 0.4593, 0.5006],\n",
      "        [0.5459, 0.5357, 0.3306, 0.6145, 0.3985, 0.4410],\n",
      "        [0.5598, 0.5326, 0.3452, 0.5800, 0.4249, 0.4629],\n",
      "        [0.6414, 0.5240, 0.3752, 0.5045, 0.4547, 0.5207],\n",
      "        [0.6597, 0.5363, 0.3738, 0.4799, 0.4954, 0.4944],\n",
      "        [0.6320, 0.5489, 0.3659, 0.5317, 0.4510, 0.4660],\n",
      "        [0.5232, 0.5340, 0.3177, 0.6403, 0.3930, 0.4673],\n",
      "        [0.4973, 0.5234, 0.2826, 0.6767, 0.3676, 0.4669],\n",
      "        [0.5385, 0.5311, 0.3379, 0.6215, 0.4247, 0.4493],\n",
      "        [0.6530, 0.5375, 0.3903, 0.5297, 0.4653, 0.4618],\n",
      "        [0.6716, 0.5428, 0.3913, 0.4460, 0.4924, 0.5186],\n",
      "        [0.6226, 0.5199, 0.3735, 0.5494, 0.4351, 0.4619],\n",
      "        [0.5277, 0.5016, 0.3237, 0.6536, 0.4012, 0.4735],\n",
      "        [0.5975, 0.5177, 0.3602, 0.5897, 0.4210, 0.4573],\n",
      "        [0.6262, 0.5215, 0.3668, 0.5114, 0.4660, 0.5094],\n",
      "        [0.6428, 0.5445, 0.3765, 0.5120, 0.4662, 0.5056],\n",
      "        [0.5910, 0.5316, 0.3545, 0.5562, 0.4318, 0.4585],\n",
      "        [0.5101, 0.5115, 0.2982, 0.6677, 0.3738, 0.4696],\n",
      "        [0.6174, 0.5494, 0.3677, 0.5047, 0.4668, 0.5048],\n",
      "        [0.5638, 0.5379, 0.3449, 0.5917, 0.4244, 0.4577],\n",
      "        [0.5949, 0.5283, 0.3558, 0.5541, 0.4394, 0.4947],\n",
      "        [0.5548, 0.5338, 0.3385, 0.5987, 0.4127, 0.4574],\n",
      "        [0.6605, 0.5321, 0.3884, 0.4827, 0.4576, 0.5233],\n",
      "        [0.5200, 0.5246, 0.3090, 0.6709, 0.3380, 0.4623],\n",
      "        [0.6556, 0.5396, 0.3652, 0.5092, 0.4419, 0.4900],\n",
      "        [0.4790, 0.5439, 0.3108, 0.6244, 0.4170, 0.4673],\n",
      "        [0.6918, 0.5608, 0.4277, 0.3972, 0.5455, 0.5283],\n",
      "        [0.6385, 0.5400, 0.3551, 0.5240, 0.4697, 0.4881],\n",
      "        [0.5432, 0.5217, 0.3315, 0.6324, 0.4010, 0.4691],\n",
      "        [0.6173, 0.5260, 0.3666, 0.5399, 0.4558, 0.4881],\n",
      "        [0.6866, 0.5482, 0.4185, 0.3842, 0.5028, 0.5189],\n",
      "        [0.6327, 0.5311, 0.3708, 0.5090, 0.4705, 0.5339],\n",
      "        [0.5163, 0.5272, 0.3183, 0.6516, 0.3816, 0.4512],\n",
      "        [0.6014, 0.5529, 0.3574, 0.5798, 0.4363, 0.4618],\n",
      "        [0.5111, 0.5274, 0.3158, 0.6363, 0.3987, 0.4555],\n",
      "        [0.5986, 0.5519, 0.3590, 0.5772, 0.4249, 0.4699],\n",
      "        [0.5261, 0.5296, 0.3235, 0.6249, 0.3990, 0.4552],\n",
      "        [0.6487, 0.5388, 0.3671, 0.4789, 0.4810, 0.5094],\n",
      "        [0.5805, 0.5484, 0.3505, 0.5662, 0.4185, 0.4680],\n",
      "        [0.4960, 0.5180, 0.2951, 0.6756, 0.3828, 0.4711],\n",
      "        [0.5444, 0.5190, 0.3441, 0.6241, 0.3963, 0.4583],\n",
      "        [0.5842, 0.5322, 0.3574, 0.5957, 0.3967, 0.4535],\n",
      "        [0.5000, 0.5182, 0.3048, 0.6633, 0.3826, 0.4502],\n",
      "        [0.5027, 0.5231, 0.3007, 0.6649, 0.3909, 0.4740]])\n",
      "total=384\n",
      "28\n",
      "classification acc: 0.07291666666666667\n"
     ]
    }
   ],
   "source": [
    "def get_predictions(model, dataloader, compute_acc=False):\n",
    "\tpredictions = None\n",
    "\tcorrect = 0\n",
    "\ttotal = 0\n",
    "\tthreshold = 0.5\n",
    "\tmodel.eval()  # 推論模式\n",
    "\twith torch.no_grad():\n",
    "\t\t# 遍巡整個資料集\n",
    "\t\tfor data in dataloader:\n",
    "\t\t\t# 將所有 tensors 移到 GPU 上\n",
    "\t\t\tif next(model.parameters()).is_cuda:\n",
    "\t\t\t\tdata = [t.to(\"cuda:0\") for t in data if t is not None]\n",
    "\t\t\t\t#data是4類tensor組合而成的list，最前面都是tokens_tensor，接著是segment_tensor，mask_tensor，最後是label_tensor\n",
    "\t\t\t\n",
    "\t\t\toutputs = model(*data[:3])\t#*表示接受任意多个参数并将其放在一个元组中，每種tensor算一個element，故data有3個index\n",
    "\t\t\t#outputs為每筆資料預測的機率\n",
    "\n",
    "\t\t\t# 別忘記前 3 個 tensors 分別為 tokens, segments 以及 masks\n",
    "\t\t\tlogits = outputs\n",
    "\t\t\t#print(logits)        \n",
    "\t\t\tlogits = logits.sigmoid()\n",
    "\t\t\t#print(logits)\n",
    "\t\t\t#pred = torch.sigmoid(logits.data)\n",
    "\t\t\t#由于每一个样本可能属于多个类别，因此不能直接根据argmax(output,1)去直接取概率最大的输出值作为其类别，\n",
    "\t\t\t#而是应该设置一个阈值（默认0.5）来对output进行过滤，得到样本所属的multi-class。\n",
    "\t\t\tfor item in logits:\n",
    "\t\t\t\tfor i in range(len(item)):\t#傳回來的logits若高於threshold則代表有該標籤，設為1\n",
    "\t\t\t\t\tif item[i] >= threshold:\n",
    "\t\t\t\t\t\titem[i] = 1\n",
    "\t\t\tpred = logits\n",
    "\t\t\t#print(pred)\n",
    "\t\t\t# 用來計算訓練集的分類準確率\n",
    "\t\t\tif compute_acc:\n",
    "\t\t\t\tlabels = data[3]\t#label放在最後一個\n",
    "\t\t\t\t#print(\"labels:\")\n",
    "\t\t\t\t#print(labels)\n",
    "\t\t\t\ttotal += labels.size(0)*6\t#會印出64，因為每個batch取64個documents\n",
    "\t\t\t\tprint(\"total=\"+str(total))\n",
    "\t\t\t\tcorrect += (pred == labels).sum().item()\n",
    "\t\t\t\tprint(correct)\n",
    "\t\t\t# 將當前 batch 記錄下來\n",
    "\t\t\tif predictions is None:\n",
    "\t\t\t\tpredictions = pred\n",
    "\t\t\telse:\n",
    "\t\t\t\tpredictions = torch.cat((predictions, pred))\n",
    "\t\t\t#print('predictions:')\n",
    "\t\t\t#print(predictions)\n",
    "\t\t\tbreak\n",
    "\t\n",
    "\tif compute_acc:\n",
    "\t\tacc = correct / total\n",
    "\t\treturn predictions, acc\n",
    "\treturn predictions\n",
    "\t\n",
    "# 讓模型跑在 GPU 上並取得訓練集的分類準確率﹝初始化狀態的測試﹞\n",
    "device = torch.device(\"cuda:0\" if torch.cuda.is_available() else \"cpu\")\n",
    "print(\"device:\", device)\n",
    "model = model.to(device)\t#Performs Tensor dtype and/or device conversion\n",
    "_, acc = get_predictions(model, trainloader, compute_acc=True)\n",
    "print(\"classification acc:\", acc)"
   ]
  },
  {
   "cell_type": "code",
   "execution_count": 15,
   "metadata": {},
   "outputs": [
    {
     "name": "stdout",
     "output_type": "stream",
     "text": [
      "\n",
      "整個分類模型的參數量：108314886\n",
      "線性分類器的參數量：4614\n",
      "\n"
     ]
    }
   ],
   "source": [
    "#算算整個分類模型以及裡頭的簡單分類器有多少參數\n",
    "def get_learnable_params(module):\n",
    "\treturn [p for p in module.parameters() if p.requires_grad]\n",
    "\t \n",
    "model_params = get_learnable_params(model)\n",
    "clf_params = get_learnable_params(model.classifier)\n",
    "\n",
    "print(f\"\"\"\n",
    "整個分類模型的參數量：{sum(p.numel() for p in model_params)}\n",
    "線性分類器的參數量：{sum(p.numel() for p in clf_params)}\n",
    "\"\"\")"
   ]
  },
  {
   "cell_type": "code",
   "execution_count": null,
   "metadata": {
    "collapsed": true
   },
   "outputs": [],
   "source": [
    "###---4. 訓練該下游任務模型\n",
    "# train mode\n",
    "model.train()\n",
    "\n",
    "# 使用 Adam Optim 更新整個分類模型的參數\n",
    "optimizer = torch.optim.Adam(model.parameters(), lr=1.0e-2)\n",
    "\n",
    "\n",
    "EPOCHS = 60  # 幸運數字\n",
    "for epoch in range(EPOCHS):\n",
    "\t\n",
    "\trunning_loss = 0.0\n",
    "\tfor data in trainloader:\n",
    "\t\t\n",
    "\t\ttokens_tensors, segments_tensors, \\\n",
    "\t\tmasks_tensors, labels = [t.to(device) for t in data]\n",
    "\n",
    "\t\t# 將參數梯度歸零\n",
    "\t\toptimizer.zero_grad()\n",
    "\t\t\n",
    "\t\t# forward pass\n",
    "\t\toutputs = model(input_ids=tokens_tensors, \n",
    "\t\t\t\t\t\ttoken_type_ids=segments_tensors, \n",
    "\t\t\t\t\t\tattention_mask=masks_tensors, \n",
    "\t\t\t\t\t\tlabels=labels)\n",
    "\t\t#print('outputs:')\n",
    "\t\t#print(outputs)\n",
    "\t\t#loss = outputs[0]\n",
    "\t\tloss = outputs\n",
    "\t\t# backward\n",
    "\t\tloss.backward()\n",
    "\t\toptimizer.step()\n",
    "\n",
    "\n",
    "\t\t# 紀錄當前 batch loss\n",
    "\t\trunning_loss += loss.item()\n",
    "\t\t\n",
    "\t# 計算分類準確率\n",
    "\t_, acc = get_predictions(model, trainloader, compute_acc=True)\n",
    "\n",
    "\tprint('[epoch %d] loss: %.3f, acc: %.3f' %\n",
    "\t\t  (epoch + 1, running_loss, acc))\n",
    "\n",
    "torch.save(model, 'paper_predict.pkl')  # 保存整个网络\n",
    "torch.save(model.state_dict(), 'paper_predict_params.pkl')   # 只保存网络中的参数 (速度快, 占内存少)"
   ]
  },
  {
   "cell_type": "code",
   "execution_count": null,
   "metadata": {
    "collapsed": true
   },
   "outputs": [],
   "source": []
  }
 ],
 "metadata": {
  "kernelspec": {
   "display_name": "Python 3",
   "language": "python",
   "name": "python3"
  },
  "language_info": {
   "codemirror_mode": {
    "name": "ipython",
    "version": 3
   },
   "file_extension": ".py",
   "mimetype": "text/x-python",
   "name": "python",
   "nbconvert_exporter": "python",
   "pygments_lexer": "ipython3",
   "version": "3.6.1"
  }
 },
 "nbformat": 4,
 "nbformat_minor": 2
}
